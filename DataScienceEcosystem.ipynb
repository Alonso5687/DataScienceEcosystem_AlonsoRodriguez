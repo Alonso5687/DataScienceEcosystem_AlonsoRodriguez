{
 "cells": [
  {
   "cell_type": "markdown",
   "id": "3d560a7b",
   "metadata": {},
   "source": [
    "# Data Science Tools and Ecosystem"
   ]
  },
  {
   "cell_type": "markdown",
   "id": "e1728665",
   "metadata": {},
   "source": [
    "In this notebook, Data Science Tools and Ecosystem are summarized."
   ]
  },
  {
   "cell_type": "markdown",
   "id": "9eb9dfda",
   "metadata": {},
   "source": [
    "***Objectives:***\n",
    "+ Popular languages that Data Scientists\n",
    "+ Evaluating arithmetic expressions in Python\n",
    "+ Commonly used libraries used by Data Scientists\n",
    "+ List popular languages for Data Science"
   ]
  },
  {
   "cell_type": "markdown",
   "id": "cc35d358",
   "metadata": {},
   "source": [
    "Some of the popular languages that Data Scientists use are:\n",
    "1. Python\n",
    "2. R\n",
    "3. SQL\n",
    "4. Java"
   ]
  },
  {
   "cell_type": "markdown",
   "id": "b1c7bd77",
   "metadata": {},
   "source": [
    "Some of the commonly used libraries used by Data Scientists include:\n",
    "1. Pandas\n",
    "2. NumPy\n",
    "3. SciPy\n",
    "4. Matplotlib"
   ]
  },
  {
   "cell_type": "markdown",
   "id": "65f3edf5",
   "metadata": {},
   "source": [
    "|Data Science Tools|\n",
    "|------------------|\n",
    "|Kubeflow|\n",
    "|CouchDB|\n",
    "|Cassandra|\n",
    "|Apache|\n",
    "|Seldon|"
   ]
  },
  {
   "cell_type": "markdown",
   "id": "58481463",
   "metadata": {},
   "source": [
    "### Below are a few examples of evaluating arithmetic expressions in Python"
   ]
  },
  {
   "cell_type": "code",
   "execution_count": 1,
   "id": "4d392f70",
   "metadata": {},
   "outputs": [
    {
     "data": {
      "text/plain": [
       "17"
      ]
     },
     "execution_count": 1,
     "metadata": {},
     "output_type": "execute_result"
    }
   ],
   "source": [
    "# This a simple arithmetic expression to mutiply then add integers\n",
    "(3*4)+5"
   ]
  },
  {
   "cell_type": "code",
   "execution_count": 7,
   "id": "11cf97c9",
   "metadata": {},
   "outputs": [
    {
     "name": "stdout",
     "output_type": "stream",
     "text": [
      "200 minutos a horas son: 3.3333333333333335\n"
     ]
    }
   ],
   "source": [
    "#  This will convert 200 minutes to hours by diving by 60\n",
    "minutos_a_horas = (200/60)\n",
    "print(\"200 minutos a horas son: {}\".format(minutos_a_horas))"
   ]
  },
  {
   "cell_type": "markdown",
   "id": "a767ee87",
   "metadata": {},
   "source": [
    "## Author \n",
    "Alonso Rodríguez Castro"
   ]
  },
  {
   "cell_type": "code",
   "execution_count": null,
   "id": "c1614db8",
   "metadata": {},
   "outputs": [],
   "source": []
  }
 ],
 "metadata": {
  "kernelspec": {
   "display_name": "Python 3 (ipykernel)",
   "language": "python",
   "name": "python3"
  },
  "language_info": {
   "codemirror_mode": {
    "name": "ipython",
    "version": 3
   },
   "file_extension": ".py",
   "mimetype": "text/x-python",
   "name": "python",
   "nbconvert_exporter": "python",
   "pygments_lexer": "ipython3",
   "version": "3.11.3"
  }
 },
 "nbformat": 4,
 "nbformat_minor": 5
}
